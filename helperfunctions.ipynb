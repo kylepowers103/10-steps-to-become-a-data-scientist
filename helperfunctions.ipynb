{
  "nbformat": 4,
  "nbformat_minor": 0,
  "metadata": {
    "colab": {
      "name": "Untitled10.ipynb",
      "version": "0.3.2",
      "provenance": [],
      "include_colab_link": true
    },
    "kernelspec": {
      "name": "python3",
      "display_name": "Python 3"
    }
  },
  "cells": [
    {
      "cell_type": "markdown",
      "metadata": {
        "id": "view-in-github",
        "colab_type": "text"
      },
      "source": [
        "<a href=\"https://colab.research.google.com/github/kylepowers103/10-steps-to-become-a-data-scientist/blob/master/helperfunctions.ipynb\" target=\"_parent\"><img src=\"https://colab.research.google.com/assets/colab-badge.svg\" alt=\"Open In Colab\"/></a>"
      ]
    },
    {
      "cell_type": "code",
      "metadata": {
        "id": "ycdW8LxL2N3j",
        "colab_type": "code",
        "colab": {}
      },
      "source": [
        "import plotly.plotly as py\n",
        "import plotly.graph_objs as go\n",
        "\n",
        "def bar_graph(x_values, y_values, title, xlabel, ylabel, filename):\n",
        "\t\"\"\"\n",
        "\tThis function returns the plot. It will not automatically display in Jupyter notebook!\n",
        "\t\"\"\"\n",
        "\tdata = [go.Bar(x=x_values, y=y_values)]\n",
        "\n",
        "\tlayout = go.Layout(title=title, yaxis=dict(title=ylabel), xaxis=dict(title=xlabel))\n",
        "\n",
        "\tfig = go.Figure(data=data, layout=layout)\n",
        "\n",
        "\treturn py.iplot(fig, filename=filename)\n",
        "\n",
        "def horizontal_bar_graph(x_values, y_values, title, xlabel, ylabel, filename):\n",
        "\t\"\"\"\n",
        "\tThis function returns the plot. it will notautomatically display in Jupyter Notebook!\n",
        "\t\"\"\"\n",
        "\tdata = [go.Bar(x=x_values, y=y_values, orientation='h',)]\n",
        "\n",
        "\tlayout = go.Layout(title=title, yaxis=dict(title=ylabel), xaxis=dict(title=xlabel))\n",
        "\n",
        "\tfig = go.Figure(data=data, layout=layout)\n",
        "\n",
        "\treturn py.iplot(fig, filename=filename)\n",
        "\n",
        "def line_graph(x_values, y_values, title, xlabel, ylabel, filename):\n",
        "\t\"\"\"\n",
        "\tThis function returns the plot. it will notautomatically display in Jupyter Notebook!\n",
        "\t\"\"\"\n",
        "\tdata = [go.Scatter(x=x_values, y=y_values)]\n",
        "\n",
        "\tlayout = go.Layout(title=title, yaxis=dict(title=ylabel), xaxis=dict(title=xlabel))\n",
        "\n",
        "\tfig = go.Figure(data=data, layout=layout)\n",
        "\n",
        "\treturn py.iplot(fig, filename=filename)"
      ],
      "execution_count": 0,
      "outputs": []
    },
    {
      "cell_type": "code",
      "metadata": {
        "id": "d9C4QgFW2ahS",
        "colab_type": "code",
        "colab": {}
      },
      "source": [
        ""
      ],
      "execution_count": 0,
      "outputs": []
    }
  ]
}